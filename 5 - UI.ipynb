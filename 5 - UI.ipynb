# 5 - UI

LINK de la aplicacion Figma --> [UI-ABOGABOT](https:www.figma.com/file/vZkcV4QtC96gkJpnruBAEb/UI---ABOGABOT?node-id=0%3A1)
