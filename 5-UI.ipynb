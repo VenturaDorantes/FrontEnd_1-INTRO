{
 "cells": [
  {
   "cell_type": "markdown",
   "metadata": {},
   "source": [
    "# 5 - UI\n",
    "\n",
    "LINK de la aplicacion Figma --> [UI-ABOGABOT](https://www.figma.com/file/vZkcV4QtC96gkJpnruBAEb/UI---ABOGABOT?node-id=0%3A1)"
   ]
  }
 ],
 "metadata": {
  "language_info": {
   "name": "python"
  },
  "orig_nbformat": 4
 },
 "nbformat": 4,
 "nbformat_minor": 2
}
